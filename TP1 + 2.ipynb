{
 "cells": [
  {
   "cell_type": "markdown",
   "metadata": {},
   "source": [
    "Projet Python TD n°1\n",
    "----------------"
   ]
  },
  {
   "cell_type": "markdown",
   "metadata": {},
   "source": [
    "Ex 1 :\n",
    "-----"
   ]
  },
  {
   "cell_type": "code",
   "execution_count": 58,
   "metadata": {
    "collapsed": false
   },
   "outputs": [],
   "source": [
    "from tkinter import *\n",
    "\n",
    "def dot(cnv, C, R=6, color='white'):\n",
    "    xC, yC=C\n",
    "    A=(xC-R, yC-R)\n",
    "    B=(xC+R, yC+R)\n",
    "    return cnv.create_oval(A,B, fill=color, outline=color)\n",
    "\n",
    "\n",
    "\n",
    "\n",
    "x=60\n",
    "y=60\n",
    "m=180\n",
    "DIM=80\n",
    "WIDTH=650\n",
    "HEIGHT=650\n",
    "\n",
    "\n",
    "my_root=Tk()\n",
    "cnv=Canvas(my_root, width=WIDTH, height=HEIGHT, background='blue')\n",
    "cnv.pack()\n",
    "\n",
    "\n",
    "C=(50,50)\n",
    "\n",
    "for j in range (0,7):\n",
    "    n=50+(j-1)*110\n",
    "    for i in range (0,8):\n",
    "        dot(cnv, C, R=DIM//2, color=\"white\")\n",
    "        C=(50+i*110, n)\n",
    "        \n",
    "    C=(50, n)\n",
    "\n",
    "\n",
    "    \n",
    "\n",
    "\n",
    "\n",
    "\n",
    "my_root.mainloop()"
   ]
  },
  {
   "cell_type": "markdown",
   "metadata": {},
   "source": [
    "Ex 2 :\n",
    "----"
   ]
  },
  {
   "cell_type": "code",
   "execution_count": 5,
   "metadata": {
    "collapsed": false
   },
   "outputs": [],
   "source": [
    "from random import *\n",
    "from tkinter import *\n",
    "\n",
    "COLORS=[\"ivory\", \"lime green\", \"red\", \"gray75\"]\n",
    "\n",
    "def random_forest(p, n):\n",
    "    units=[(line,col) for col in range(n) for line in range(n)]\n",
    "    ntrees=int(n**2*p)\n",
    "    trees=sample(units,ntrees)\n",
    "    states=[[0]*n for _ in range(n)]\n",
    "    for (i,j) in trees:\n",
    "        states[i][j]=1\n",
    "    return states\n",
    "\n",
    "def fill_cell(states, line, col):\n",
    "    A=(unit*col, unit*line)\n",
    "    B=(unit*(col+1), unit*(line+1))\n",
    "    state=states[line][col]\n",
    "    color=COLORS[state]\n",
    "    cnv.create_rectangle(A, B, fill=color, outline='')\n",
    "\n",
    "def fill(states):\n",
    "    n=len(states)\n",
    "    for line in range(n):\n",
    "        for col in range(n):\n",
    "            fill_cell(states, line, col)\n",
    "\n",
    "p=0.60\n",
    "n=50\n",
    "unit=10\n",
    "\n",
    "# Fenêtre et canevas\n",
    "root = Tk()\n",
    "cnv = Canvas(root, width=unit*n, height=unit*n, background=\"ivory\")\n",
    "cnv.pack()\n",
    "\n",
    "# Forêt aléatoire\n",
    "states=random_forest(p, n)\n",
    "\n",
    "# Plateau dessiné\n",
    "fill(states)\n",
    "\n",
    "root.mainloop()\n"
   ]
  },
  {
   "cell_type": "markdown",
   "metadata": {},
   "source": [
    "Ex 3 :\n",
    "------"
   ]
  },
  {
   "cell_type": "code",
   "execution_count": 18,
   "metadata": {
    "collapsed": false
   },
   "outputs": [],
   "source": [
    "from tkinter import *\n",
    "\n",
    "board=[[1, 2, 3, 4],\n",
    "       [5, 6, 7, 8],\n",
    "       [9, 10, 11, 12],\n",
    "       [13, 14, 15, 16]]\n",
    "\n",
    "FONT=('Ubuntu', 27, 'bold')\n",
    "master=Tk()\n",
    "cnv=Canvas(master, width=400, height=400, bg='gray70')\n",
    "cnv.pack()\n",
    "\n",
    "for i in range(4):\n",
    "    for j in range(4):\n",
    "        x, y=100*j, 100*i\n",
    "        A, B, C=(x, y), (x+100, y+100), (x+50, y+50)\n",
    "        H=cnv.create_rectangle(A, B, fill=\"gray75\")\n",
    "        U=cnv.create_text(C, text=board[i][j], fill=\"black\",font=FONT)\n",
    "       \n",
    "    \n",
    "    \n",
    "cnv.delete(H)\n",
    "cnv.delete(U)\n",
    "master.mainloop()"
   ]
  },
  {
   "cell_type": "markdown",
   "metadata": {},
   "source": [
    "Ex 4 :\n",
    "------"
   ]
  },
  {
   "cell_type": "code",
   "execution_count": 84,
   "metadata": {
    "collapsed": false
   },
   "outputs": [],
   "source": [
    "from tkinter import *\n",
    "\n",
    "\n",
    "def dot(cnv, C, R=6, color='orange'):\n",
    "    xC, yC=C\n",
    "    A=(xC-R, yC-R)\n",
    "    B=(xC+R, yC+R)\n",
    "    return cnv.create_oval(A,B, fill=color, outline=color)\n",
    "\n",
    "D=(0,0)\n",
    "C=(325,345)\n",
    "E=(325,430)\n",
    "x=60\n",
    "y=60\n",
    "m=180\n",
    "DIM=600\n",
    "WIDTH=650\n",
    "HEIGHT=650\n",
    "\n",
    "\n",
    "\n",
    "\n",
    "my_root=Tk()\n",
    "cnv=Canvas(my_root, width=WIDTH, height=HEIGHT, background='white')\n",
    "cnv.pack()\n",
    "\n",
    "dot(cnv, C, R=DIM//2, color=\"orange\")\n",
    "dot(cnv, C, R=DIM//30, color=\"gray75\")\n",
    "dot(cnv, E, R=DIM//50, color=\"black\")\n",
    "\n",
    "for j in range (0,3) :\n",
    "    n=175+(j-1)*85\n",
    "    for i in range (0,3):\n",
    "        dot(cnv, D, R=DIM//50, color=\"black\")\n",
    "        D=(250+i*75, n)\n",
    "    C=(50, n)\n",
    "\n",
    "for j in range (0,3) :\n",
    "    n=345+(j-1)*85\n",
    "    for i in range (0,3):\n",
    "        dot(cnv, D, R=DIM//50, color=\"black\")\n",
    "        D=(100+i*75, n)\n",
    "    C=(50, n)    \n",
    "\n",
    "for j in range (0,3) :\n",
    "    n=345+(j-1)*85\n",
    "    for i in range (0,3):\n",
    "        dot(cnv, D, R=DIM//50, color=\"black\")\n",
    "        D=(400+i*75, n)\n",
    "    C=(50, n)\n",
    "\n",
    "for j in range (0,3) :\n",
    "    n=600+(j-1)*85\n",
    "    for i in range (0,3):\n",
    "        dot(cnv, D, R=DIM//50, color=\"black\")\n",
    "        D=(250+i*75, n)\n",
    "    C=(50, n)\n",
    "    \n",
    "    \n",
    "my_root.mainloop()"
   ]
  },
  {
   "cell_type": "markdown",
   "metadata": {},
   "source": [
    "Ex 5 :\n",
    "----"
   ]
  },
  {
   "cell_type": "code",
   "execution_count": 88,
   "metadata": {
    "collapsed": true
   },
   "outputs": [],
   "source": [
    "from tkinter import *\n",
    "from random import randrange\n",
    "\n",
    "WIDTH=800\n",
    "HEIGHT=600\n",
    "\n",
    "GREEN=\"#10ff00\"\n",
    "GRAY=\"#363636\"\n",
    "\n",
    "\n",
    "def point(A, C, k):\n",
    "    xA, yA=A\n",
    "    xC, yC=C\n",
    "    xAC, yAC=(xC-xA, yC-yA)\n",
    "    AC=(xAC**2+yAC**2)**0.5\n",
    "    xu, yu=(xAC/AC, yAC/AC)\n",
    "    xM=xA+k*xu\n",
    "    yM=yA+k*yu\n",
    "    return (xM, yM)\n",
    "\n",
    "root=Tk()\n",
    "cnv=Canvas(root, width=WIDTH, height=HEIGHT, bg=GRAY)\n",
    "cnv.pack()\n",
    "\n",
    "\n",
    "def dot(cnv, C, R=6, color='red'):\n",
    "    xC, yC=C\n",
    "    A=(xC-R, yC-R)\n",
    "    B=(xC+R, yC+R)\n",
    "    return cnv.create_oval(A,B, fill=color, outline=color)\n",
    "\n",
    "def line(A, C):\n",
    "    B=point(A, C, -L)\n",
    "    D=point(A, C, WIDTH)\n",
    "\n",
    "    cnv.create_line(B,A, width=7, fill=GREEN, arrow='last',\n",
    "                    arrowshape=(18,30, 8))\n",
    "    cnv.create_line(A,D, fill=GREEN, dash=3)\n",
    "\n",
    "\n",
    "L=60\n",
    "\n",
    "C=(randrange(WIDTH), randrange(HEIGHT))\n",
    "\n",
    "for _ in range(4):\n",
    "    A=(randrange(WIDTH), randrange(HEIGHT))\n",
    "    line(A,C)\n",
    "\n",
    "root.mainloop()"
   ]
  },
  {
   "cell_type": "code",
   "execution_count": null,
   "metadata": {
    "collapsed": true
   },
   "outputs": [],
   "source": []
  },
  {
   "cell_type": "code",
   "execution_count": null,
   "metadata": {
    "collapsed": true
   },
   "outputs": [],
   "source": []
  }
 ],
 "metadata": {
  "kernelspec": {
   "display_name": "Python 3",
   "language": "python",
   "name": "python3"
  },
  "language_info": {
   "codemirror_mode": {
    "name": "ipython",
    "version": 3
   },
   "file_extension": ".py",
   "mimetype": "text/x-python",
   "name": "python",
   "nbconvert_exporter": "python",
   "pygments_lexer": "ipython3",
   "version": "3.5.3"
  }
 },
 "nbformat": 4,
 "nbformat_minor": 2
}
