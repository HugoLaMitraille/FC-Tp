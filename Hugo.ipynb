{
 "cells": [
  {
   "cell_type": "markdown",
   "metadata": {},
   "source": [
    "TP n°3\n",
    "--------"
   ]
  },
  {
   "cell_type": "markdown",
   "metadata": {},
   "source": [
    "Taquin :\n",
    "-----"
   ]
  },
  {
   "cell_type": "code",
   "execution_count": 27,
   "metadata": {
    "collapsed": false
   },
   "outputs": [
    {
     "name": "stderr",
     "output_type": "stream",
     "text": [
      "Exception in Tkinter callback\n",
      "Traceback (most recent call last):\n",
      "  File \"/usr/lib/python3.5/tkinter/__init__.py\", line 1562, in __call__\n",
      "    return self.func(*args)\n",
      "  File \"<ipython-input-27-12735d06f4ce>\", line 21, in melanger\n",
      "    cnv.delete()\n",
      "  File \"/usr/lib/python3.5/tkinter/__init__.py\", line 2366, in delete\n",
      "    self.tk.call((self._w, 'delete') + args)\n",
      "_tkinter.TclError: invalid command name \".140144228595136\"\n",
      "Exception in Tkinter callback\n",
      "Traceback (most recent call last):\n",
      "  File \"/usr/lib/python3.5/tkinter/__init__.py\", line 1562, in __call__\n",
      "    return self.func(*args)\n",
      "  File \"<ipython-input-27-12735d06f4ce>\", line 21, in melanger\n",
      "    cnv.delete()\n",
      "  File \"/usr/lib/python3.5/tkinter/__init__.py\", line 2366, in delete\n",
      "    self.tk.call((self._w, 'delete') + args)\n",
      "_tkinter.TclError: invalid command name \".140144228595136\"\n",
      "Exception in Tkinter callback\n",
      "Traceback (most recent call last):\n",
      "  File \"/usr/lib/python3.5/tkinter/__init__.py\", line 1562, in __call__\n",
      "    return self.func(*args)\n",
      "  File \"<ipython-input-27-12735d06f4ce>\", line 21, in melanger\n",
      "    cnv.delete()\n",
      "  File \"/usr/lib/python3.5/tkinter/__init__.py\", line 2366, in delete\n",
      "    self.tk.call((self._w, 'delete') + args)\n",
      "_tkinter.TclError: invalid command name \".140144228595136\"\n",
      "Exception in Tkinter callback\n",
      "Traceback (most recent call last):\n",
      "  File \"/usr/lib/python3.5/tkinter/__init__.py\", line 1562, in __call__\n",
      "    return self.func(*args)\n",
      "  File \"<ipython-input-27-12735d06f4ce>\", line 21, in melanger\n",
      "    cnv.delete()\n",
      "  File \"/usr/lib/python3.5/tkinter/__init__.py\", line 2366, in delete\n",
      "    self.tk.call((self._w, 'delete') + args)\n",
      "_tkinter.TclError: invalid command name \".140144228595136\"\n"
     ]
    }
   ],
   "source": [
    "from tkinter import *\n",
    "from random import *\n",
    "\n",
    "L=[]\n",
    "SIDE=100\n",
    "CANVAS_SIDE=400\n",
    "NB_SQUARES=4\n",
    "R=CANVAS_SIDE//NB_SQUARES\n",
    "\n",
    "def fill_board(cnv, board):\n",
    "    for i in range(NB_SQUARES):\n",
    "        for j in range(NB_SQUARES):\n",
    "            v=board[i][j]\n",
    "            if not i==j==NB_SQUARES-1:\n",
    "                cnv.create_rectangle(j*R, i*R, (1+j)*R, (1+i)*R, fill=\"lavender\")\n",
    "                cnv.create_text(j*R+R//2, i*R+R//2, text=v,  font=('courier', CANVAS_SIDE//10, 'bold'))\n",
    "\n",
    "\n",
    "                \n",
    "def melanger():\n",
    "    cnv.delete()\n",
    "    random.shuffle(board)\n",
    "    \n",
    "\n",
    "\n",
    "\n",
    "                \n",
    "                \n",
    "                \n",
    "                \n",
    "                \n",
    "                \n",
    "                \n",
    "                \n",
    "                \n",
    "                \n",
    "def draw():\n",
    "    master=Tk()\n",
    "    cnv=Canvas(master, width=CANVAS_SIDE, height=CANVAS_SIDE, bg='ivory')\n",
    "    \n",
    "    b=Button(master, text=\"Mélanger\", command=melanger,  width=5)\n",
    "    b.pack(padx=100, pady=100)\n",
    "\n",
    "    cnv.pack()\n",
    "    board=[[NB_SQUARES*lin+1+col for col in range(NB_SQUARES)] for lin in range(NB_SQUARES)]\n",
    "    fill_board(cnv, board)\n",
    "    master.mainloop()\n",
    "    \n",
    "\n",
    "\n",
    "    \n",
    "    \n",
    "\n",
    "\n",
    "    \n",
    "    \n",
    "    \n",
    "draw()\n",
    "\n",
    "\n",
    "\n",
    "\n",
    "\n",
    "\n",
    "\n",
    "\n",
    "\n",
    "\n",
    "\n",
    "\n",
    "\n",
    "\n"
   ]
  },
  {
   "cell_type": "markdown",
   "metadata": {},
   "source": [
    "Feu de forêt :\n",
    "--------"
   ]
  },
  {
   "cell_type": "code",
   "execution_count": 28,
   "metadata": {
    "collapsed": true
   },
   "outputs": [],
   "source": [
    "from random import sample\n",
    "from tkinter import Tk, Canvas\n",
    "\n",
    "def random_forest(p, n):\n",
    "    units=[(line,col) for col in range(n) for line in range(n)]\n",
    "    ntrees=int(n**2*p)\n",
    "    trees=sample(units,ntrees)\n",
    "    states=[[0]*n for _ in range(n)]\n",
    "    for (i,j) in trees:\n",
    "        states[i][j]=1    \n",
    "    return states\n",
    "                \n",
    "def fill(cnv, states, unit):\n",
    "    n=len(states)\n",
    "    for line in range(n):\n",
    "        for col in range(n):\n",
    "            A=(unit*col, unit*line)\n",
    "            B=(unit*(col+1), unit*(line+1))\n",
    "            state=states[line][col]\n",
    "            color=[\"ivory\", \"lime green\", \"red\", \"gray75\"][state]\n",
    "            cnv.create_rectangle(A, B, fill=color, outline='')\n",
    "\n",
    "\n",
    "p=0.2\n",
    "n=50\n",
    "\n",
    "root = Tk()\n",
    "unit=10\n",
    "side=unit*n\n",
    "cnv = Canvas(root, width=unit*n, height=unit*n, background=\"ivory\")\n",
    "cnv.pack(padx=10, pady=10)\n",
    "states=random_forest(p,n)\n",
    "fill(cnv, states, unit)\n",
    "root.mainloop()\n"
   ]
  },
  {
   "cell_type": "code",
   "execution_count": null,
   "metadata": {
    "collapsed": true
   },
   "outputs": [],
   "source": []
  },
  {
   "cell_type": "code",
   "execution_count": null,
   "metadata": {
    "collapsed": true
   },
   "outputs": [],
   "source": []
  }
 ],
 "metadata": {
  "kernelspec": {
   "display_name": "Python 3",
   "language": "python",
   "name": "python3"
  },
  "language_info": {
   "codemirror_mode": {
    "name": "ipython",
    "version": 3
   },
   "file_extension": ".py",
   "mimetype": "text/x-python",
   "name": "python",
   "nbconvert_exporter": "python",
   "pygments_lexer": "ipython3",
   "version": "3.5.3"
  }
 },
 "nbformat": 4,
 "nbformat_minor": 2
}
