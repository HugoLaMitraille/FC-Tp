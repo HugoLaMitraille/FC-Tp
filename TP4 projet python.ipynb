{
 "cells": [
  {
   "cell_type": "markdown",
   "metadata": {},
   "source": [
    "Tables de Micmaths\n",
    "-----------"
   ]
  },
  {
   "cell_type": "code",
   "execution_count": 9,
   "metadata": {
    "collapsed": false
   },
   "outputs": [
    {
     "ename": "NameError",
     "evalue": "name 'curseur' is not defined",
     "output_type": "error",
     "traceback": [
      "\u001b[0;31m---------------------------------------------------------------------------\u001b[0m",
      "\u001b[0;31mNameError\u001b[0m                                 Traceback (most recent call last)",
      "\u001b[0;32m<ipython-input-9-d3796f6f626a>\u001b[0m in \u001b[0;36m<module>\u001b[0;34m()\u001b[0m\n\u001b[1;32m     52\u001b[0m     \u001b[0mmaster\u001b[0m\u001b[0;34m.\u001b[0m\u001b[0mmainloop\u001b[0m\u001b[0;34m(\u001b[0m\u001b[0;34m)\u001b[0m\u001b[0;34m\u001b[0m\u001b[0m\n\u001b[1;32m     53\u001b[0m \u001b[0;34m\u001b[0m\u001b[0m\n\u001b[0;32m---> 54\u001b[0;31m \u001b[0mp\u001b[0m\u001b[0;34m=\u001b[0m\u001b[0mcurseur\u001b[0m \u001b[0;31m# nombre de points sur le cercle\u001b[0m\u001b[0;34m\u001b[0m\u001b[0m\n\u001b[0m\u001b[1;32m     55\u001b[0m \u001b[0mR\u001b[0m\u001b[0;34m=\u001b[0m\u001b[0;36m200\u001b[0m\u001b[0;34m\u001b[0m\u001b[0m\n\u001b[1;32m     56\u001b[0m \u001b[0mn\u001b[0m\u001b[0;34m=\u001b[0m\u001b[0mcurseur\u001b[0m \u001b[0;31m# Table de n\u001b[0m\u001b[0;34m\u001b[0m\u001b[0m\n",
      "\u001b[0;31mNameError\u001b[0m: name 'curseur' is not defined"
     ]
    }
   ],
   "source": [
    "from tkinter import *\n",
    "from math import *\n",
    "\n",
    "def passage(x,y, a, b):\n",
    "    return (a+x, b-y)\n",
    "\n",
    "def produit(k, n, p):\n",
    "    return k*n % p\n",
    "\n",
    "def segment(cnv, k, n, p, base, a, b):\n",
    "    # base : les coordonnées des points du cercle\n",
    "    # on trace le produit prod=k*n\n",
    "    # k -> A\n",
    "    # prod -> B\n",
    "    prod=produit(k, n, p)\n",
    "    xA, yA=base[k]\n",
    "    xB, yB=base[prod]    \n",
    "    A=passage(xA, yA, a, b)\n",
    "    B=passage(xB, yB, a, b)\n",
    "    cnv.create_line(A, B)\n",
    "    \n",
    "def dot(cnv, C, R=6, color='red'):\n",
    "    xC, yC=C\n",
    "    return cnv.create_oval(xC-R,yC-R,xC+R, yC+R, fill=color, outline=color)\n",
    "  \n",
    "def draw_base(cnv, p, base, a, b):\n",
    "    # Les sommets sur le cercle\n",
    "    for k in range(p):\n",
    "        x, y=base[k]\n",
    "        X, Y=passage(x, y, a, b)\n",
    "        dot(cnv, (X, Y), R=2, color='black')\n",
    "    \n",
    "def draw(n, p, R):\n",
    "    master=Tk()\n",
    "    a=b=1.2*R\n",
    "    cnv=Canvas(master, width=2*a, height=2*b, bg='ivory')\n",
    "    cnv.pack()\n",
    "    # Les points du cercle\n",
    "    base=[(R*cos(2*k*pi/p), R*sin(2*k*pi/p)) for k in range(p)]\n",
    "    draw_base(cnv, p, base, a, b)\n",
    "    # Tracé de la table\n",
    "    for k in range(p):\n",
    "        segment(cnv, k, n, p, base, a, b)    \n",
    "    \n",
    "##def valeurN():\n",
    "#    n=curseur\n",
    "    \n",
    "    curseur = Scale(master, orient = \"horizontal\", from_=2, to=500)\n",
    "    curseur.pack()\n",
    "    curseur2 = Scale(master, orient = \"horizontal\", from_=2, to=50)\n",
    "    curseur2.pack()\n",
    "    master.mainloop()\n",
    " \n",
    "p=curseur2 # nombre de points sur le cercle\n",
    "R=200\n",
    "n=curseur # Table de n\n",
    "draw(n, p, R)\n",
    "\n",
    "\n",
    "\n",
    "\n"
   ]
  },
  {
   "cell_type": "code",
   "execution_count": null,
   "metadata": {
    "collapsed": true
   },
   "outputs": [],
   "source": []
  }
 ],
 "metadata": {
  "kernelspec": {
   "display_name": "Python 3",
   "language": "python",
   "name": "python3"
  },
  "language_info": {
   "codemirror_mode": {
    "name": "ipython",
    "version": 3
   },
   "file_extension": ".py",
   "mimetype": "text/x-python",
   "name": "python",
   "nbconvert_exporter": "python",
   "pygments_lexer": "ipython3",
   "version": "3.5.3"
  }
 },
 "nbformat": 4,
 "nbformat_minor": 2
}
